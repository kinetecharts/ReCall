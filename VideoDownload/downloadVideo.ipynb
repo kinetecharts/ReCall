{
 "cells": [
  {
   "cell_type": "markdown",
   "id": "56f0eb7f-41db-485e-a4b3-c4b9a14d2b20",
   "metadata": {},
   "source": [
    "### Step 1 Download video from Youtube \n",
    "\n",
    "create ./videos folder to save downloaded videos"
   ]
  },
  {
   "cell_type": "code",
   "execution_count": 2,
   "id": "31f85f15-501a-4cfe-9572-c15a006429a8",
   "metadata": {},
   "outputs": [
    {
     "name": "stdout",
     "output_type": "stream",
     "text": [
      "Collecting pytube\n",
      "  Using cached pytube-15.0.0-py3-none-any.whl (57 kB)\n",
      "Installing collected packages: pytube\n",
      "Successfully installed pytube-15.0.0\n"
     ]
    }
   ],
   "source": [
    "! pip install pytube"
   ]
  },
  {
   "cell_type": "code",
   "execution_count": 13,
   "id": "594db877-9fc1-4b03-8573-ef3a63ecf289",
   "metadata": {},
   "outputs": [],
   "source": [
    "from pytube import YouTube\n",
    "\n",
    "# Example code to download videos\n",
    "# YouTube('https://youtu.be/9bZkp7q19f0').streams.first().download()\n",
    "# YouTube('https://youtu.be/9bZkp7q19f0').streams.get_highest_resolution().download()\n",
    "\n",
    "def YTDownload(link):\n",
    "    path='./videos'\n",
    "    youTubeObject = YouTube(link)\n",
    "    youTubeObject = youTubeObject.streams.get_highest_resolution()\n",
    "    try:\n",
    "        if youTubeObject is not None:\n",
    "            youTubeObject.download(path)\n",
    "    except:\n",
    "        print(\"There has been an error.\")\n",
    "    \n",
    "    print(\"All good.\")"
   ]
  },
  {
   "cell_type": "code",
   "execution_count": 11,
   "id": "8027b97b-c5b1-4552-8360-a9dffa887e54",
   "metadata": {},
   "outputs": [
    {
     "name": "stdout",
     "output_type": "stream",
     "text": [
      "All good.\n"
     ]
    }
   ],
   "source": [
    "# Dance of the Sugar Plum Fairy from The Nutcracker (The Royal Ballet)\n",
    "link=\"https://www.youtube.com/watch?v=zV1qLYukTH8&ab_channel=RoyalOperaHouse\"\n",
    "YTDownload(link)"
   ]
  },
  {
   "cell_type": "code",
   "execution_count": null,
   "id": "f7c3da82-2ad4-4553-90cb-bf17fa4db7f4",
   "metadata": {},
   "outputs": [],
   "source": []
  }
 ],
 "metadata": {
  "kernelspec": {
   "display_name": "Python 3 (ipykernel)",
   "language": "python",
   "name": "python3"
  },
  "language_info": {
   "codemirror_mode": {
    "name": "ipython",
    "version": 3
   },
   "file_extension": ".py",
   "mimetype": "text/x-python",
   "name": "python",
   "nbconvert_exporter": "python",
   "pygments_lexer": "ipython3",
   "version": "3.9.13"
  }
 },
 "nbformat": 4,
 "nbformat_minor": 5
}
